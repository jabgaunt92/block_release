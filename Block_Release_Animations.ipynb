{
 "cells": [
  {
   "cell_type": "code",
   "execution_count": 3,
   "id": "stopped-glucose",
   "metadata": {},
   "outputs": [],
   "source": [
    "from manim import *\n",
    "import numpy as np\n",
    "\n",
    "config.media_width = \"100%\"\n",
    "config.verbosity = \"WARNING\"\n"
   ]
  },
  {
   "cell_type": "code",
   "execution_count": 4,
   "id": "classified-pulse",
   "metadata": {},
   "outputs": [
    {
     "name": "stderr",
     "output_type": "stream",
     "text": [
      "                                                                                                              \r"
     ]
    },
    {
     "data": {
      "text/html": [
       "<video src=\"media/jupyter/SingleLinearTransformationScene@2022-03-15@03-18-34.mp4\" controls autoplay loop style=\"max-width: 100%;\"  >\n",
       "      Your browser does not support the <code>video</code> element.\n",
       "    </video>"
      ],
      "text/plain": [
       "<IPython.core.display.Video object>"
      ]
     },
     "metadata": {},
     "output_type": "display_data"
    }
   ],
   "source": [
    "%%manim -qm SingleLinearTransformationScene\n",
    "\n",
    "class SingleLinearTransformationScene(LinearTransformationScene):\n",
    "    def __init__(self):\n",
    "        LinearTransformationScene.__init__(\n",
    "            self,\n",
    "            show_coordinates=True,\n",
    "            show_basis_vectors= True,\n",
    "        )\n",
    "\n",
    "    def construct(self):\n",
    "        matrix1 = [[3, 2], [1, 1]]\n",
    "        self.apply_matrix(matrix1)\n",
    "        self.wait(3)\n",
    "        \n"
   ]
  },
  {
   "cell_type": "code",
   "execution_count": 5,
   "id": "differential-lemon",
   "metadata": {},
   "outputs": [
    {
     "name": "stderr",
     "output_type": "stream",
     "text": [
      "                                                                                                              \r"
     ]
    },
    {
     "data": {
      "text/html": [
       "<video src=\"media/jupyter/TwoLinearTransformationScene@2022-03-15@03-25-11.mp4\" controls autoplay loop style=\"max-width: 100%;\"  >\n",
       "      Your browser does not support the <code>video</code> element.\n",
       "    </video>"
      ],
      "text/plain": [
       "<IPython.core.display.Video object>"
      ]
     },
     "metadata": {},
     "output_type": "display_data"
    }
   ],
   "source": [
    "%%manim -qm TwoLinearTransformationScene\n",
    "\n",
    "class TwoLinearTransformationScene(LinearTransformationScene):\n",
    "    def __init__(self):\n",
    "        LinearTransformationScene.__init__(\n",
    "            self,\n",
    "            show_coordinates=True,\n",
    "            show_basis_vectors= True,\n",
    "        )\n",
    "\n",
    "    def construct(self):\n",
    "        matrix1 = [[3, 2], [1, 1]]\n",
    "        matrix2 = [[1,-1],[0,1]]\n",
    "        self.apply_matrix(matrix1)\n",
    "        self.wait(3)\n",
    "        \n",
    "        self.moving_mobjects = []\n",
    "        \n",
    "        self.apply_matrix(matrix2)\n",
    "        self.wait()"
   ]
  },
  {
   "cell_type": "code",
   "execution_count": 6,
   "id": "otherwise-leader",
   "metadata": {},
   "outputs": [
    {
     "name": "stderr",
     "output_type": "stream",
     "text": [
      "                                                                     \r"
     ]
    },
    {
     "data": {
      "text/html": [
       "<video src=\"media/jupyter/PropertiesLinearTransformationScene@2022-03-15@03-25-12.mp4\" controls autoplay loop style=\"max-width: 100%;\"  >\n",
       "      Your browser does not support the <code>video</code> element.\n",
       "    </video>"
      ],
      "text/plain": [
       "<IPython.core.display.Video object>"
      ]
     },
     "metadata": {},
     "output_type": "display_data"
    }
   ],
   "source": [
    "%%manim -qm PropertiesLinearTransformationScene\n",
    "\n",
    "class PropertiesLinearTransformationScene(LinearTransformationScene):\n",
    "    def __init__(self):\n",
    "        LinearTransformationScene.__init__(\n",
    "            self,\n",
    "            show_coordinates=True,\n",
    "            show_basis_vectors= False,\n",
    "        )\n",
    "\n",
    "    def construct(self):\n",
    "        matrix1 = [[2, 0], [1, 1]]\n",
    "        v1 = Vector([1,1])\n",
    "        vec = self.add_vector([1,1])\n",
    "\n"
   ]
  },
  {
   "cell_type": "code",
   "execution_count": null,
   "id": "german-phase",
   "metadata": {},
   "outputs": [],
   "source": []
  }
 ],
 "metadata": {
  "kernelspec": {
   "display_name": "Python 3",
   "language": "python",
   "name": "python3"
  },
  "language_info": {
   "codemirror_mode": {
    "name": "ipython",
    "version": 3
   },
   "file_extension": ".py",
   "mimetype": "text/x-python",
   "name": "python",
   "nbconvert_exporter": "python",
   "pygments_lexer": "ipython3",
   "version": "3.8.7"
  }
 },
 "nbformat": 4,
 "nbformat_minor": 5
}
