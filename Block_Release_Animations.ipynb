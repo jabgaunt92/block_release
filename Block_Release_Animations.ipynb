{
 "cells": [
  {
   "cell_type": "markdown",
   "id": "flexible-pledge",
   "metadata": {},
   "source": [
    "# Linear Transformations Workbook\t\n",
    "\n",
    "<font size=\"4\">Run the following code cell to do so (focus the cell and hit the *Run* button above, or press `Shift`+`Enter`) </font> "
   ]
  },
  {
   "cell_type": "code",
   "execution_count": 32,
   "id": "stopped-glucose",
   "metadata": {
    "scrolled": false
   },
   "outputs": [],
   "source": [
    "from manim import *\n",
    "import numpy as np\n",
    "\n",
    "config.media_width = \"100%\"\n",
    "config.verbosity = \"WARNING\"\n"
   ]
  },
  {
   "cell_type": "markdown",
   "id": "impressed-photographer",
   "metadata": {},
   "source": [
    "# Task 1 - Matrices as Linear Transformations\n",
    "\n",
    "<font size=\"4\"> In the animation below, you will see how a given $ 2 \\times 2 $ matrix transforms $ \\mathbb{R}^2 $ and in particular how it transforms the two vectors $$ \\textbf{i} = \\left[ \\begin{array}{c}1 \\\\ 0 \\end{array} \\right] \\hspace{1mm} \\text{and} \\hspace{2mm} \\textbf{j} = \\left[ \\begin{array}{c} 0 \\\\ 1 \\end{array} \\right]. $$ \n",
    "    \n",
    "Here, the green vector before the transformation represents $ \\textbf{i} $ and the red vector represents $ \\textbf{j} $.\n",
    "\n",
    "<br>\n",
    "    \n",
    "The matrix defining the transformation is given by `matrix = [[2, 0], [0, 1]]`\n",
    "   \n",
    "<br>\n",
    "This corresponds to the matrix $$ M = \\left[ \\begin{array}{cc} 2 & 0 \\\\ 0 & 1 \\end{array} \\right]. $$\n",
    "\n",
    "<br>\n",
    "By entering in your own values for the matrix, discuss how these values relate to the location the red and green arrows get mapped to? Also, discuss what geometric properties are presereved under this transformation?\n",
    "\n",
    "    \n",
    "</font>\n",
    "    "
   ]
  },
  {
   "cell_type": "code",
   "execution_count": 152,
   "id": "classified-pulse",
   "metadata": {
    "scrolled": false
   },
   "outputs": [
    {
     "name": "stderr",
     "output_type": "stream",
     "text": [
      "                                                                                                              \r"
     ]
    },
    {
     "data": {
      "text/html": [
       "<video src=\"media/jupyter/SingleLinearTransformationScene@2022-03-27@15-45-37.mp4\" controls autoplay loop style=\"max-width: 100%;\"  >\n",
       "      Your browser does not support the <code>video</code> element.\n",
       "    </video>"
      ],
      "text/plain": [
       "<IPython.core.display.Video object>"
      ]
     },
     "metadata": {},
     "output_type": "display_data"
    }
   ],
   "source": [
    "%%manim -qm SingleLinearTransformationScene\n",
    "\n",
    "class SingleLinearTransformationScene(LinearTransformationScene):\n",
    "    def setup(self):\n",
    "        if hasattr(self, \"has_already_setup\"):\n",
    "            return\n",
    "        self.has_already_setup = True\n",
    "        self.background_mobjects = []\n",
    "        self.foreground_mobjects = []\n",
    "        self.transformable_mobjects = []\n",
    "        self.moving_vectors = []\n",
    "        self.transformable_labels = []\n",
    "        self.moving_mobjects = []\n",
    "        self.show_coordinates = True\n",
    "        \n",
    "        self.background_plane = NumberPlane(**self.background_plane_kwargs)\n",
    "\n",
    "        if  self.show_coordinates:\n",
    "            self.background_plane.add_coordinates()\n",
    "        if self.include_background_plane:\n",
    "            self.add_background_mobject(self.background_plane)\n",
    "        if self.include_foreground_plane:\n",
    "            self.plane = NumberPlane(**self.foreground_plane_kwargs)\n",
    "            self.add_transformable_mobject(self.plane)\n",
    "        \n",
    "    def construct(self):\n",
    "        self.setup()\n",
    "        \n",
    "        matrix = [[2, 0], [0, 1]] #THIS IS THE MATRIX YOU CAN EDIT        \n",
    "        \n",
    "        basis = self.get_basis_vectors()\n",
    "        self.add_vector(basis[0])\n",
    "        self.add_vector(basis[1])\n",
    "        \n",
    "        self.apply_matrix(matrix)\n",
    "        self.wait()\n",
    "        \n"
   ]
  },
  {
   "cell_type": "markdown",
   "id": "affecting-tennessee",
   "metadata": {},
   "source": [
    "# Task 2 - Composing Transformations\n",
    "\n",
    "<font size=\"4\"> In the animation below, you will see how a given $ 2 \\times 2 $ matrix transforms $ \\mathbb{R}^2 $ and in particular how it transforms the two vectors $$ \\textbf{i} = \\left[ \\begin{array}{c}1 \\\\ 0 \\end{array} \\right] \\hspace{1mm} \\text{and} \\hspace{2mm} \\textbf{j} = \\left[ \\begin{array}{c} 0 \\\\ 1 \\end{array} \\right]. $$ \n",
    "    \n",
    "Here, the green vector before the transformation represents $ \\textbf{i} $ and the red vector represents $ \\textbf{j} $.\n",
    "\n",
    "<br>\n",
    "    \n",
    "The matrix defining the transformation is given by\n",
    "<center>\n",
    "           \n",
    "       matrix = [[2, 0], [0, 1]]\n",
    "    \n",
    "</center>\n",
    "<br>\n",
    "This corresponds to the matrix $$ M = \\left[ \\begin{array}{cc} 2 & 0 \\\\ 0 & 1 \\end{array} \\right]. $$\n",
    "\n",
    "<br>\n",
    "By entering in your own values for the matrix, discuss how these values relate to the location the red and green arrows get mapped to?    \n",
    "    \n",
    "</font>"
   ]
  },
  {
   "cell_type": "code",
   "execution_count": 154,
   "id": "differential-lemon",
   "metadata": {},
   "outputs": [
    {
     "name": "stderr",
     "output_type": "stream",
     "text": [
      "                                                                                                                        \r"
     ]
    },
    {
     "data": {
      "text/html": [
       "<video src=\"media/jupyter/TwoLinearTransformationScene@2022-03-27@15-47-15.mp4\" controls autoplay loop style=\"max-width: 100%;\"  >\n",
       "      Your browser does not support the <code>video</code> element.\n",
       "    </video>"
      ],
      "text/plain": [
       "<IPython.core.display.Video object>"
      ]
     },
     "metadata": {},
     "output_type": "display_data"
    }
   ],
   "source": [
    "%%manim -qm TwoLinearTransformationScene\n",
    "\n",
    "class TwoLinearTransformationScene(LinearTransformationScene):\n",
    "    def setup(self):\n",
    "        if hasattr(self, \"has_already_setup\"):\n",
    "            return\n",
    "        self.has_already_setup = True\n",
    "        self.background_mobjects = []\n",
    "        self.foreground_mobjects = []\n",
    "        self.transformable_mobjects = []\n",
    "        self.moving_vectors = []\n",
    "        self.transformable_labels = []\n",
    "        self.moving_mobjects = []\n",
    "        self.show_coordinates = True\n",
    "        \n",
    "        self.background_plane = NumberPlane(**self.background_plane_kwargs)\n",
    "\n",
    "        if  self.show_coordinates:\n",
    "            self.background_plane.add_coordinates()\n",
    "        if self.include_background_plane:\n",
    "            self.add_background_mobject(self.background_plane)\n",
    "        if self.include_foreground_plane:\n",
    "            self.plane = NumberPlane(**self.foreground_plane_kwargs)\n",
    "            self.add_transformable_mobject(self.plane)\n",
    "    \n",
    "    def construct(self):\n",
    "        self.setup()\n",
    "\n",
    "        matrix1 = [[3, 2], [1, 1]]  #THIS IS THE MATRIX YOU CAN EDIT FOR THE FIRST TRANSFORMATION\n",
    "        matrix2 = [[1,-1],[0,1]]  #THIS IS THE MATRIX YOU CAN EDIT FOR THE SECOND TRANSFORMATION\n",
    "        \n",
    "        basis = self.get_basis_vectors()\n",
    "        self.add_vector(basis[0])\n",
    "        self.add_vector(basis[1])\n",
    "\n",
    "        self.apply_matrix(matrix1)\n",
    "        self.wait()\n",
    "        \n",
    "        self.moving_mobjects = []\n",
    "        \n",
    "        self.apply_matrix(matrix2)\n",
    "        self.wait()"
   ]
  },
  {
   "cell_type": "markdown",
   "id": "grand-copper",
   "metadata": {},
   "source": [
    "# Task 3 - Properties of Linear Transformations\n",
    "\n",
    "<font size=\"4\"> In the animation below, you will see how a given $ 2 \\times 2 $ matrix transforms $ \\mathbb{R}^2 $ and in particular how it transforms the two vectors $$ \\textbf{i} = \\left[ \\begin{array}{c}1 \\\\ 0 \\end{array} \\right] \\hspace{1mm} \\text{and} \\hspace{2mm} \\textbf{j} = \\left[ \\begin{array}{c} 0 \\\\ 1 \\end{array} \\right]. $$ \n",
    "    \n",
    "Here, the green vector before the transformation represents $ \\textbf{i} $ and the red vector represents $ \\textbf{j} $.\n",
    "\n",
    "<br>\n",
    "    \n",
    "The matrix defining the transformation is given by\n",
    "<center>\n",
    "           \n",
    "       matrix = [[2, 0], [0, 1]]\n",
    "    \n",
    "</center>\n",
    "<br>\n",
    "This corresponds to the matrix $$ M = \\left[ \\begin{array}{cc} 2 & 0 \\\\ 0 & 1 \\end{array} \\right]. $$\n",
    "\n",
    "<br>\n",
    "By entering in your own values for the matrix, discuss how these values relate to the location the red and green arrows get mapped to?    \n",
    "    \n",
    "</font>"
   ]
  },
  {
   "cell_type": "code",
   "execution_count": 279,
   "id": "reported-europe",
   "metadata": {},
   "outputs": [
    {
     "name": "stderr",
     "output_type": "stream",
     "text": [
      "                                                                                      \r"
     ]
    },
    {
     "data": {
      "text/html": [
       "<video src=\"media/jupyter/PropertiesofLinearTransformations@2022-03-27@20-42-56.mp4\" controls autoplay loop style=\"max-width: 100%;\"  >\n",
       "      Your browser does not support the <code>video</code> element.\n",
       "    </video>"
      ],
      "text/plain": [
       "<IPython.core.display.Video object>"
      ]
     },
     "metadata": {},
     "output_type": "display_data"
    }
   ],
   "source": [
    "%%manim -qm PropertiesofLinearTransformations\n",
    "\n",
    "class PropertiesofLinearTransformations(VectorScene):\n",
    "    def construct(self):\n",
    "        plane = self.add_plane(animate=False).add_coordinates()\n",
    "        \n",
    "        matrix = [[2,0],[0,1]] #THIS IS THE MATRIX YOU CAN EDIT\n",
    "        \n",
    "        vector = [1,2] #THIS IS THE INPUT VECTOR YOU CAN EDIT\n",
    "        \n",
    "        new_vec = np.dot(matrix,vector)\n",
    "        \n",
    "        v = Vector(vector, color=YELLOW)\n",
    "        transformed_vector = Vector(new_vec,color=YELLOW)\n",
    "        \n",
    "        i_component = [vector[0],0]\n",
    "        j_component = [0,vector[1]]\n",
    "        \n",
    "        i_vec = Vector(i_component, color = GREEN)\n",
    "        j_vec = Vector(j_component, color = RED)\n",
    "        \n",
    "        new_i_component = np.dot(matrix, i_component)\n",
    "        new_j_component = np.dot(matrix, j_component)\n",
    "                        \n",
    "        new_i_vec = Vector(new_i_component, color = GREEN)\n",
    "        new_j_vec = Vector(new_j_component, color = RED).shift(RIGHT*new_i_component[0] + UP*new_i_component[1])\n",
    "\n",
    "\n",
    "        self.play(GrowArrow(v))\n",
    "        self.add_foreground_mobjects(v)\n",
    "\n",
    "     \n",
    "        self.wait()\n",
    "        \n",
    "        self.play(GrowArrow(i_vec))\n",
    "        \n",
    "        self.wait()\n",
    "        \n",
    "        self.play(GrowArrow(j_vec.shift(RIGHT*vector[0])))\n",
    "        \n",
    "        self.wait()\n",
    "        \n",
    "        self.play(\n",
    "            Transform(v, transformed_vector),\n",
    "            Transform(i_vec,new_i_vec),\n",
    "            Transform(j_vec,new_j_vec)\n",
    "        )\n",
    "        \n",
    "        self.wait(3)\n",
    "                "
   ]
  },
  {
   "cell_type": "markdown",
   "id": "complex-convenience",
   "metadata": {},
   "source": [
    "# Task 4 - Eigenvalues and Eigenvectors \n",
    "\n",
    "<font size=\"4\"> In the animation below, you will see how a given $ 2 \\times 2 $ matrix transforms $ \\mathbb{R}^2 $ and in particular how it transforms the two vectors $$ \\textbf{i} = \\left[ \\begin{array}{c}1 \\\\ 0 \\end{array} \\right] \\hspace{1mm} \\text{and} \\hspace{2mm} \\textbf{j} = \\left[ \\begin{array}{c} 0 \\\\ 1 \\end{array} \\right]. $$ \n",
    "    \n",
    "Here, the green vector before the transformation represents $ \\textbf{i} $ and the red vector represents $ \\textbf{j} $.\n",
    "\n",
    "<br>\n",
    "    \n",
    "The matrix defining the transformation is given by\n",
    "<center>\n",
    "           \n",
    "       matrix = [[2, 0], [0, 1]]\n",
    "    \n",
    "</center>\n",
    "<br>\n",
    "This corresponds to the matrix $$ M = \\left[ \\begin{array}{cc} 2 & 0 \\\\ 0 & 1 \\end{array} \\right]. $$\n",
    "\n",
    "<br>\n",
    "By entering in your own values for the matrix, discuss how these values relate to the location the red and green arrows get mapped to?    \n",
    "    \n",
    "</font>"
   ]
  },
  {
   "cell_type": "code",
   "execution_count": 323,
   "id": "fewer-preview",
   "metadata": {},
   "outputs": [
    {
     "name": "stderr",
     "output_type": "stream",
     "text": [
      "                                                                                                                        \r"
     ]
    },
    {
     "data": {
      "text/html": [
       "<video src=\"media/jupyter/EigenVectorTransformationScene@2022-03-27@21-10-02.mp4\" controls autoplay loop style=\"max-width: 100%;\"  >\n",
       "      Your browser does not support the <code>video</code> element.\n",
       "    </video>"
      ],
      "text/plain": [
       "<IPython.core.display.Video object>"
      ]
     },
     "metadata": {},
     "output_type": "display_data"
    }
   ],
   "source": [
    "%%manim -qm EigenVectorTransformationScene\n",
    "\n",
    "class EigenVectorTransformationScene(LinearTransformationScene):\n",
    "    def setup(self):\n",
    "        if hasattr(self, \"has_already_setup\"):\n",
    "            return\n",
    "        self.has_already_setup = True\n",
    "        self.background_mobjects = []\n",
    "        self.foreground_mobjects = []\n",
    "        self.transformable_mobjects = []\n",
    "        self.moving_vectors = []\n",
    "        self.transformable_labels = []\n",
    "        self.moving_mobjects = []\n",
    "        self.show_coordinates = True\n",
    "        \n",
    "        self.background_plane = NumberPlane(**self.background_plane_kwargs)\n",
    "\n",
    "        if  self.show_coordinates:\n",
    "            self.background_plane.add_coordinates()\n",
    "        if self.include_background_plane:\n",
    "            self.add_background_mobject(self.background_plane)\n",
    "        if self.include_foreground_plane:\n",
    "            self.plane = NumberPlane(**self.foreground_plane_kwargs)\n",
    "            self.add_transformable_mobject(self.plane)\n",
    "        \n",
    "    def construct(self):\n",
    "        self.setup()\n",
    "        \n",
    "        matrix = [[1, 1], [1, 1]] #THIS IS THE MATRIX YOU CAN EDIT        \n",
    "        \n",
    "        first_eigen_i = np.linalg.eig(matrix)[1][0][0]\n",
    "        first_eigen_j = np.linalg.eig(matrix)[1][1][0]\n",
    "\n",
    "        second_eigen_i = np.linalg.eig(matrix)[1][0][1]\n",
    "        second_eigen_j = np.linalg.eig(matrix)[1][1][1]\n",
    "        \n",
    "        eig_1 = Vector([first_eigen_i,first_eigen_j], color = YELLOW)\n",
    "        eig_2 = Vector([second_eigen_i, second_eigen_j], color = ORANGE)\n",
    "        \n",
    "        self.add_vector(eig_1)\n",
    "        self.add_vector(eig_2)\n",
    "        \n",
    "        self.apply_matrix(matrix)\n",
    "        self.wait()"
   ]
  },
  {
   "cell_type": "code",
   "execution_count": null,
   "id": "informed-grammar",
   "metadata": {},
   "outputs": [],
   "source": []
  }
 ],
 "metadata": {
  "kernelspec": {
   "display_name": "Python 3",
   "language": "python",
   "name": "python3"
  },
  "language_info": {
   "codemirror_mode": {
    "name": "ipython",
    "version": 3
   },
   "file_extension": ".py",
   "mimetype": "text/x-python",
   "name": "python",
   "nbconvert_exporter": "python",
   "pygments_lexer": "ipython3",
   "version": "3.8.7"
  }
 },
 "nbformat": 4,
 "nbformat_minor": 5
}
